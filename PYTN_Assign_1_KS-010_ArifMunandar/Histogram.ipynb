{
 "cells": [
  {
   "cell_type": "markdown",
   "metadata": {},
   "source": [
    "# Histogram\n",
    "---\n",
    "Histogram adalah cara untuk merepresentasikan distribusi frekuensi dari dataset numerik. Cara kerjanya adalah mempartisi sumbu x menjadi beberapa bin, menetapkan setiap titik data dalam kumpulan data ke sebuah bin, dan kemudian menghitung jumlah titik data yang telah ditetapkan ke setiap bin. Jadi, sumbu y adalah frekuensi atau banyaknya titik data pada setiap bin."
   ]
  },
  {
   "cell_type": "markdown",
   "metadata": {},
   "source": [
    "### Import Library & Load Datasets"
   ]
  },
  {
   "cell_type": "code",
   "execution_count": 1,
   "metadata": {
    "vscode": {
     "languageId": "python"
    }
   },
   "outputs": [],
   "source": [
    "import pandas as pd\n",
    "import numpy as np\n",
    "import matplotlib.pyplot as plt\n",
    "%matplotlib inline"
   ]
  },
  {
   "cell_type": "code",
   "execution_count": 2,
   "metadata": {
    "vscode": {
     "languageId": "python"
    }
   },
   "outputs": [],
   "source": [
    "df = pd.read_csv('/SIB_HACKTIVE8/H8_3/PYTN_Assign_1_KS-010_ArifMunandar/london_crime_by_lsoa.csv')"
   ]
  },
  {
   "cell_type": "markdown",
   "metadata": {},
   "source": [
    "---\n",
    "**Question:** Bagaimana distribusi frekuensi jumlah kejahatan tahun 2008-2016?"
   ]
  },
  {
   "cell_type": "code",
   "execution_count": 3,
   "metadata": {
    "vscode": {
     "languageId": "python"
    }
   },
   "outputs": [
    {
     "data": {
      "text/html": [
       "<div>\n",
       "<style scoped>\n",
       "    .dataframe tbody tr th:only-of-type {\n",
       "        vertical-align: middle;\n",
       "    }\n",
       "\n",
       "    .dataframe tbody tr th {\n",
       "        vertical-align: top;\n",
       "    }\n",
       "\n",
       "    .dataframe thead th {\n",
       "        text-align: right;\n",
       "    }\n",
       "</style>\n",
       "<table border=\"1\" class=\"dataframe\">\n",
       "  <thead>\n",
       "    <tr style=\"text-align: right;\">\n",
       "      <th></th>\n",
       "      <th>value</th>\n",
       "    </tr>\n",
       "    <tr>\n",
       "      <th>year</th>\n",
       "      <th></th>\n",
       "    </tr>\n",
       "  </thead>\n",
       "  <tbody>\n",
       "    <tr>\n",
       "      <th>2008</th>\n",
       "      <td>738641</td>\n",
       "    </tr>\n",
       "    <tr>\n",
       "      <th>2009</th>\n",
       "      <td>717214</td>\n",
       "    </tr>\n",
       "    <tr>\n",
       "      <th>2010</th>\n",
       "      <td>715324</td>\n",
       "    </tr>\n",
       "    <tr>\n",
       "      <th>2011</th>\n",
       "      <td>724915</td>\n",
       "    </tr>\n",
       "    <tr>\n",
       "      <th>2012</th>\n",
       "      <td>737329</td>\n",
       "    </tr>\n",
       "    <tr>\n",
       "      <th>2013</th>\n",
       "      <td>686407</td>\n",
       "    </tr>\n",
       "    <tr>\n",
       "      <th>2014</th>\n",
       "      <td>680183</td>\n",
       "    </tr>\n",
       "    <tr>\n",
       "      <th>2015</th>\n",
       "      <td>711624</td>\n",
       "    </tr>\n",
       "    <tr>\n",
       "      <th>2016</th>\n",
       "      <td>736121</td>\n",
       "    </tr>\n",
       "  </tbody>\n",
       "</table>\n",
       "</div>"
      ],
      "text/plain": [
       "       value\n",
       "year        \n",
       "2008  738641\n",
       "2009  717214\n",
       "2010  715324\n",
       "2011  724915\n",
       "2012  737329\n",
       "2013  686407\n",
       "2014  680183\n",
       "2015  711624\n",
       "2016  736121"
      ]
     },
     "execution_count": 3,
     "metadata": {},
     "output_type": "execute_result"
    }
   ],
   "source": [
    "year_frequency = df.drop([\"lsoa_code\",\"borough\",\"major_category\",\"minor_category\",\"month\"], axis=1)\n",
    "year_frequency = year_frequency.groupby(\"year\").sum()\n",
    "year_frequency"
   ]
  },
  {
   "cell_type": "markdown",
   "metadata": {},
   "source": [
    "Tabel di atas adalah tabel jumlah kejahatan/kriminal selama tahun 2008-2016.\n",
    "\n",
    "Selanjutnya adalah partisi sumbu x menjadi beberapa bin:"
   ]
  },
  {
   "cell_type": "code",
   "execution_count": 4,
   "metadata": {
    "vscode": {
     "languageId": "python"
    }
   },
   "outputs": [
    {
     "name": "stdout",
     "output_type": "stream",
     "text": [
      "[1 1 0 0 0 1 2 1 0 3]\n",
      "[680183.  686028.8 691874.6 697720.4 703566.2 709412.  715257.8 721103.6\n",
      " 726949.4 732795.2 738641. ]\n"
     ]
    }
   ],
   "source": [
    "count, bin_edges = np.histogram(year_frequency)\n",
    "print(count)\n",
    "print(bin_edges)"
   ]
  },
  {
   "cell_type": "code",
   "execution_count": 6,
   "metadata": {
    "vscode": {
     "languageId": "python"
    }
   },
   "outputs": [
    {
     "data": {
      "image/png": "[encoded data removed]",
      "text/plain": [
       "<Figure size 720x360 with 1 Axes>"
      ]
     },
     "metadata": {
      "needs_background": "light"
     },
     "output_type": "display_data"
    }
   ],
   "source": [
    "year_frequency.plot(kind=\"hist\",\n",
    "                     figsize=(10,5),\n",
    "                     xticks=bin_edges,\n",
    "                     yticks=count,\n",
    "                     legend=False,\n",
    "                     color=\"red\")\n",
    "plt.title(\"Histogram of Crime Frequency over 2008-2016\\n\", fontsize=20)\n",
    "plt.xlabel(\"\\nNumber of Crime\", fontsize=15)\n",
    "plt.ylabel(\"Number of Year\\n\", fontsize=15)\n",
    "plt.grid(color=\"grey\", linewidth=0.5)\n",
    "plt.show()"
   ]
  },
  {
   "cell_type": "markdown",
   "metadata": {},
   "source": [
    "Berdasarkan histogram berikut, diketahui bahwa jumlah kejahatan/kriminal berkisar 732795 sampai 738641 memiliki frekuensi tertinggi yaitu 3. Artinya, selama 3 tahun dari 2008-2016, jumlah kejahatan/kriminal di seluruh wilayah metropolitan London berjumlah 732795 sampai 738641. Secara keseluruhan, selama tahun 2008-2016, jumlah kejahatan/kriminal paling rendah adalah 680183 dan tertinggi 738641."
   ]
  },
  {
   "cell_type": "markdown",
   "metadata": {},
   "source": [
    "---\n",
    "**Question:** Bagaimana distribusi frekuensi jumlah kejahatan yang terjadi di wilayah metropolitan London tahun 2008-2016?"
   ]
  },
  {
   "cell_type": "code",
   "execution_count": 7,
   "metadata": {
    "vscode": {
     "languageId": "python"
    }
   },
   "outputs": [
    {
     "data": {
      "text/html": [
       "<div>\n",
       "<style scoped>\n",
       "    .dataframe tbody tr th:only-of-type {\n",
       "        vertical-align: middle;\n",
       "    }\n",
       "\n",
       "    .dataframe tbody tr th {\n",
       "        vertical-align: top;\n",
       "    }\n",
       "\n",
       "    .dataframe thead th {\n",
       "        text-align: right;\n",
       "    }\n",
       "</style>\n",
       "<table border=\"1\" class=\"dataframe\">\n",
       "  <thead>\n",
       "    <tr style=\"text-align: right;\">\n",
       "      <th></th>\n",
       "      <th>value</th>\n",
       "    </tr>\n",
       "    <tr>\n",
       "      <th>borough</th>\n",
       "      <th></th>\n",
       "    </tr>\n",
       "  </thead>\n",
       "  <tbody>\n",
       "    <tr>\n",
       "      <th>Barking and Dagenham</th>\n",
       "      <td>149447</td>\n",
       "    </tr>\n",
       "    <tr>\n",
       "      <th>Barnet</th>\n",
       "      <td>212191</td>\n",
       "    </tr>\n",
       "    <tr>\n",
       "      <th>Bexley</th>\n",
       "      <td>114136</td>\n",
       "    </tr>\n",
       "    <tr>\n",
       "      <th>Brent</th>\n",
       "      <td>227551</td>\n",
       "    </tr>\n",
       "    <tr>\n",
       "      <th>Bromley</th>\n",
       "      <td>184349</td>\n",
       "    </tr>\n",
       "    <tr>\n",
       "      <th>Camden</th>\n",
       "      <td>275147</td>\n",
       "    </tr>\n",
       "    <tr>\n",
       "      <th>City of London</th>\n",
       "      <td>780</td>\n",
       "    </tr>\n",
       "    <tr>\n",
       "      <th>Croydon</th>\n",
       "      <td>260294</td>\n",
       "    </tr>\n",
       "    <tr>\n",
       "      <th>Ealing</th>\n",
       "      <td>251562</td>\n",
       "    </tr>\n",
       "    <tr>\n",
       "      <th>Enfield</th>\n",
       "      <td>193880</td>\n",
       "    </tr>\n",
       "    <tr>\n",
       "      <th>Greenwich</th>\n",
       "      <td>181568</td>\n",
       "    </tr>\n",
       "    <tr>\n",
       "      <th>Hackney</th>\n",
       "      <td>217119</td>\n",
       "    </tr>\n",
       "    <tr>\n",
       "      <th>Hammersmith and Fulham</th>\n",
       "      <td>185259</td>\n",
       "    </tr>\n",
       "    <tr>\n",
       "      <th>Haringey</th>\n",
       "      <td>213272</td>\n",
       "    </tr>\n",
       "    <tr>\n",
       "      <th>Harrow</th>\n",
       "      <td>116848</td>\n",
       "    </tr>\n",
       "    <tr>\n",
       "      <th>Havering</th>\n",
       "      <td>138947</td>\n",
       "    </tr>\n",
       "    <tr>\n",
       "      <th>Hillingdon</th>\n",
       "      <td>209680</td>\n",
       "    </tr>\n",
       "    <tr>\n",
       "      <th>Hounslow</th>\n",
       "      <td>186772</td>\n",
       "    </tr>\n",
       "    <tr>\n",
       "      <th>Islington</th>\n",
       "      <td>230286</td>\n",
       "    </tr>\n",
       "    <tr>\n",
       "      <th>Kensington and Chelsea</th>\n",
       "      <td>171981</td>\n",
       "    </tr>\n",
       "    <tr>\n",
       "      <th>Kingston upon Thames</th>\n",
       "      <td>89306</td>\n",
       "    </tr>\n",
       "    <tr>\n",
       "      <th>Lambeth</th>\n",
       "      <td>292178</td>\n",
       "    </tr>\n",
       "    <tr>\n",
       "      <th>Lewisham</th>\n",
       "      <td>215137</td>\n",
       "    </tr>\n",
       "    <tr>\n",
       "      <th>Merton</th>\n",
       "      <td>115654</td>\n",
       "    </tr>\n",
       "    <tr>\n",
       "      <th>Newham</th>\n",
       "      <td>262024</td>\n",
       "    </tr>\n",
       "    <tr>\n",
       "      <th>Redbridge</th>\n",
       "      <td>183562</td>\n",
       "    </tr>\n",
       "    <tr>\n",
       "      <th>Richmond upon Thames</th>\n",
       "      <td>96771</td>\n",
       "    </tr>\n",
       "    <tr>\n",
       "      <th>Southwark</th>\n",
       "      <td>278809</td>\n",
       "    </tr>\n",
       "    <tr>\n",
       "      <th>Sutton</th>\n",
       "      <td>100987</td>\n",
       "    </tr>\n",
       "    <tr>\n",
       "      <th>Tower Hamlets</th>\n",
       "      <td>228613</td>\n",
       "    </tr>\n",
       "    <tr>\n",
       "      <th>Waltham Forest</th>\n",
       "      <td>203879</td>\n",
       "    </tr>\n",
       "    <tr>\n",
       "      <th>Wandsworth</th>\n",
       "      <td>204741</td>\n",
       "    </tr>\n",
       "    <tr>\n",
       "      <th>Westminster</th>\n",
       "      <td>455028</td>\n",
       "    </tr>\n",
       "  </tbody>\n",
       "</table>\n",
       "</div>"
      ],
      "text/plain": [
       "                         value\n",
       "borough                       \n",
       "Barking and Dagenham    149447\n",
       "Barnet                  212191\n",
       "Bexley                  114136\n",
       "Brent                   227551\n",
       "Bromley                 184349\n",
       "Camden                  275147\n",
       "City of London             780\n",
       "Croydon                 260294\n",
       "Ealing                  251562\n",
       "Enfield                 193880\n",
       "Greenwich               181568\n",
       "Hackney                 217119\n",
       "Hammersmith and Fulham  185259\n",
       "Haringey                213272\n",
       "Harrow                  116848\n",
       "Havering                138947\n",
       "Hillingdon              209680\n",
       "Hounslow                186772\n",
       "Islington               230286\n",
       "Kensington and Chelsea  171981\n",
       "Kingston upon Thames     89306\n",
       "Lambeth                 292178\n",
       "Lewisham                215137\n",
       "Merton                  115654\n",
       "Newham                  262024\n",
       "Redbridge               183562\n",
       "Richmond upon Thames     96771\n",
       "Southwark               278809\n",
       "Sutton                  100987\n",
       "Tower Hamlets           228613\n",
       "Waltham Forest          203879\n",
       "Wandsworth              204741\n",
       "Westminster             455028"
      ]
     },
     "execution_count": 7,
     "metadata": {},
     "output_type": "execute_result"
    }
   ],
   "source": [
    "crime_freq = df.drop([\"lsoa_code\",\"major_category\",\"minor_category\",\"month\",\"year\"], axis=1)\n",
    "crime_freq = crime_freq.groupby(\"borough\").sum()\n",
    "crime_freq"
   ]
  },
  {
   "cell_type": "markdown",
   "metadata": {},
   "source": [
    "Tabel di atas adalah tabel jumlah kejahatan/kriminal di masing-masing wilayah metropolitan di London `borough` selama tahun 2008-2016.\n",
    "\n",
    "Selanjutnya adalah partisi sumbu x menjadi beberapa bin:"
   ]
  },
  {
   "cell_type": "code",
   "execution_count": 9,
   "metadata": {
    "vscode": {
     "languageId": "python"
    }
   },
   "outputs": [
    {
     "name": "stdout",
     "output_type": "stream",
     "text": [
      "[ 1  1  5  4 13  5  3  0  0  1]\n",
      "[   780.   46204.8  91629.6 137054.4 182479.2 227904.  273328.8 318753.6\n",
      " 364178.4 409603.2 455028. ]\n"
     ]
    }
   ],
   "source": [
    "count, bin_edges = np.histogram(crime_freq)\n",
    "print(count)\n",
    "print(bin_edges)"
   ]
  },
  {
   "cell_type": "code",
   "execution_count": 11,
   "metadata": {
    "vscode": {
     "languageId": "python"
    }
   },
   "outputs": [
    {
     "data": {
      "image/png": "[encoded data removed]",
      "text/plain": [
       "<Figure size 720x360 with 1 Axes>"
      ]
     },
     "metadata": {
      "needs_background": "light"
     },
     "output_type": "display_data"
    }
   ],
   "source": [
    "crime_freq.plot(kind=\"hist\",\n",
    "                     figsize=(10,5),\n",
    "                     xticks=bin_edges,\n",
    "                     yticks=count,\n",
    "                     legend=False,\n",
    "                     color=\"green\")\n",
    "plt.title(\"Crime Frequency from 33 Borough in London (2008-2016)\\n\", fontsize=20)\n",
    "plt.xlabel(\"\\nNumber of Crime\", fontsize=15)\n",
    "plt.ylabel(\"Number of Borough\\n\", fontsize=15)\n",
    "plt.grid(color=\"grey\", linewidth=0.5)\n",
    "plt.show()"
   ]
  },
  {
   "cell_type": "markdown",
   "metadata": {},
   "source": [
    "Berdasarkan histogram berikut, diketahui bahwa frekuensi tertinggi jumlah kejahatan/kriminal adalah antara 182479 sampai dengan 227904 yaitu sebanyak 13 wilayah metropolitan `borough`. Artinya, terdapat 13 `borough` yang memiliki jumlah kejahatan/kriminal antara 182479 sampai dengan 227904 selama tahun 2008-2016. Selain itu frekuensi terkecil jumlah kejahatan/kriminal tertinggi adalah 409603 sampai 455028, yang berarti terdapat 1 `borough` yang memiliki jumlah kejahatan/kriminal 409603 sampai 455028. Begitu pun dengan jumlah kejahatan/kriminal dari 780 sampai dengan 46205 yaitu sebanyak 1 `borough`."
   ]
  },
  {
   "cell_type": "markdown",
   "metadata": {},
   "source": [
    "---\n",
    "**Question:** Bagaimana distribusi frekuensi jumlah kejahatan di wilayah metropolitan `borough` pada tahun 2011 dan 2016?"
   ]
  },
  {
   "cell_type": "code",
   "execution_count": 12,
   "metadata": {
    "vscode": {
     "languageId": "python"
    }
   },
   "outputs": [
    {
     "data": {
      "text/html": [
       "<div>\n",
       "<style scoped>\n",
       "    .dataframe tbody tr th:only-of-type {\n",
       "        vertical-align: middle;\n",
       "    }\n",
       "\n",
       "    .dataframe tbody tr th {\n",
       "        vertical-align: top;\n",
       "    }\n",
       "\n",
       "    .dataframe thead th {\n",
       "        text-align: right;\n",
       "    }\n",
       "</style>\n",
       "<table border=\"1\" class=\"dataframe\">\n",
       "  <thead>\n",
       "    <tr style=\"text-align: right;\">\n",
       "      <th></th>\n",
       "      <th>value</th>\n",
       "    </tr>\n",
       "    <tr>\n",
       "      <th>borough</th>\n",
       "      <th></th>\n",
       "    </tr>\n",
       "  </thead>\n",
       "  <tbody>\n",
       "    <tr>\n",
       "      <th>Barking and Dagenham</th>\n",
       "      <td>16741</td>\n",
       "    </tr>\n",
       "    <tr>\n",
       "      <th>Barnet</th>\n",
       "      <td>24684</td>\n",
       "    </tr>\n",
       "    <tr>\n",
       "      <th>Bexley</th>\n",
       "      <td>12840</td>\n",
       "    </tr>\n",
       "    <tr>\n",
       "      <th>Brent</th>\n",
       "      <td>26693</td>\n",
       "    </tr>\n",
       "    <tr>\n",
       "      <th>Bromley</th>\n",
       "      <td>20164</td>\n",
       "    </tr>\n",
       "    <tr>\n",
       "      <th>Camden</th>\n",
       "      <td>29183</td>\n",
       "    </tr>\n",
       "    <tr>\n",
       "      <th>City of London</th>\n",
       "      <td>178</td>\n",
       "    </tr>\n",
       "    <tr>\n",
       "      <th>Croydon</th>\n",
       "      <td>28712</td>\n",
       "    </tr>\n",
       "    <tr>\n",
       "      <th>Ealing</th>\n",
       "      <td>27127</td>\n",
       "    </tr>\n",
       "    <tr>\n",
       "      <th>Enfield</th>\n",
       "      <td>22485</td>\n",
       "    </tr>\n",
       "    <tr>\n",
       "      <th>Greenwich</th>\n",
       "      <td>22730</td>\n",
       "    </tr>\n",
       "    <tr>\n",
       "      <th>Hackney</th>\n",
       "      <td>28265</td>\n",
       "    </tr>\n",
       "    <tr>\n",
       "      <th>Hammersmith and Fulham</th>\n",
       "      <td>20174</td>\n",
       "    </tr>\n",
       "    <tr>\n",
       "      <th>Haringey</th>\n",
       "      <td>27174</td>\n",
       "    </tr>\n",
       "    <tr>\n",
       "      <th>Harrow</th>\n",
       "      <td>13153</td>\n",
       "    </tr>\n",
       "    <tr>\n",
       "      <th>Havering</th>\n",
       "      <td>16903</td>\n",
       "    </tr>\n",
       "    <tr>\n",
       "      <th>Hillingdon</th>\n",
       "      <td>24341</td>\n",
       "    </tr>\n",
       "    <tr>\n",
       "      <th>Hounslow</th>\n",
       "      <td>22251</td>\n",
       "    </tr>\n",
       "    <tr>\n",
       "      <th>Islington</th>\n",
       "      <td>27092</td>\n",
       "    </tr>\n",
       "    <tr>\n",
       "      <th>Kensington and Chelsea</th>\n",
       "      <td>19580</td>\n",
       "    </tr>\n",
       "    <tr>\n",
       "      <th>Kingston upon Thames</th>\n",
       "      <td>9983</td>\n",
       "    </tr>\n",
       "    <tr>\n",
       "      <th>Lambeth</th>\n",
       "      <td>34071</td>\n",
       "    </tr>\n",
       "    <tr>\n",
       "      <th>Lewisham</th>\n",
       "      <td>23904</td>\n",
       "    </tr>\n",
       "    <tr>\n",
       "      <th>Merton</th>\n",
       "      <td>12755</td>\n",
       "    </tr>\n",
       "    <tr>\n",
       "      <th>Newham</th>\n",
       "      <td>30090</td>\n",
       "    </tr>\n",
       "    <tr>\n",
       "      <th>Redbridge</th>\n",
       "      <td>19502</td>\n",
       "    </tr>\n",
       "    <tr>\n",
       "      <th>Richmond upon Thames</th>\n",
       "      <td>11074</td>\n",
       "    </tr>\n",
       "    <tr>\n",
       "      <th>Southwark</th>\n",
       "      <td>31636</td>\n",
       "    </tr>\n",
       "    <tr>\n",
       "      <th>Sutton</th>\n",
       "      <td>10658</td>\n",
       "    </tr>\n",
       "    <tr>\n",
       "      <th>Tower Hamlets</th>\n",
       "      <td>29253</td>\n",
       "    </tr>\n",
       "    <tr>\n",
       "      <th>Waltham Forest</th>\n",
       "      <td>20716</td>\n",
       "    </tr>\n",
       "    <tr>\n",
       "      <th>Wandsworth</th>\n",
       "      <td>23679</td>\n",
       "    </tr>\n",
       "    <tr>\n",
       "      <th>Westminster</th>\n",
       "      <td>48330</td>\n",
       "    </tr>\n",
       "  </tbody>\n",
       "</table>\n",
       "</div>"
      ],
      "text/plain": [
       "                        value\n",
       "borough                      \n",
       "Barking and Dagenham    16741\n",
       "Barnet                  24684\n",
       "Bexley                  12840\n",
       "Brent                   26693\n",
       "Bromley                 20164\n",
       "Camden                  29183\n",
       "City of London            178\n",
       "Croydon                 28712\n",
       "Ealing                  27127\n",
       "Enfield                 22485\n",
       "Greenwich               22730\n",
       "Hackney                 28265\n",
       "Hammersmith and Fulham  20174\n",
       "Haringey                27174\n",
       "Harrow                  13153\n",
       "Havering                16903\n",
       "Hillingdon              24341\n",
       "Hounslow                22251\n",
       "Islington               27092\n",
       "Kensington and Chelsea  19580\n",
       "Kingston upon Thames     9983\n",
       "Lambeth                 34071\n",
       "Lewisham                23904\n",
       "Merton                  12755\n",
       "Newham                  30090\n",
       "Redbridge               19502\n",
       "Richmond upon Thames    11074\n",
       "Southwark               31636\n",
       "Sutton                  10658\n",
       "Tower Hamlets           29253\n",
       "Waltham Forest          20716\n",
       "Wandsworth              23679\n",
       "Westminster             48330"
      ]
     },
     "execution_count": 12,
     "metadata": {},
     "output_type": "execute_result"
    }
   ],
   "source": [
    "#Berikut adalah tabel jumlah kejahatan/kriminal yang terjadi di tahun 2016\n",
    "freq = df.drop([\"lsoa_code\",\"major_category\",\"minor_category\",\"month\"], axis=1).set_index(\"year\")\n",
    "freq16 = freq.loc[2016]\n",
    "freq16 = freq16.groupby(\"borough\").sum()\n",
    "freq16"
   ]
  },
  {
   "cell_type": "code",
   "execution_count": 15,
   "metadata": {
    "vscode": {
     "languageId": "python"
    }
   },
   "outputs": [
    {
     "data": {
      "text/html": [
       "<div>\n",
       "<style scoped>\n",
       "    .dataframe tbody tr th:only-of-type {\n",
       "        vertical-align: middle;\n",
       "    }\n",
       "\n",
       "    .dataframe tbody tr th {\n",
       "        vertical-align: top;\n",
       "    }\n",
       "\n",
       "    .dataframe thead th {\n",
       "        text-align: right;\n",
       "    }\n",
       "</style>\n",
       "<table border=\"1\" class=\"dataframe\">\n",
       "  <thead>\n",
       "    <tr style=\"text-align: right;\">\n",
       "      <th></th>\n",
       "      <th>value</th>\n",
       "    </tr>\n",
       "    <tr>\n",
       "      <th>borough</th>\n",
       "      <th></th>\n",
       "    </tr>\n",
       "  </thead>\n",
       "  <tbody>\n",
       "    <tr>\n",
       "      <th>Barking and Dagenham</th>\n",
       "      <td>16686</td>\n",
       "    </tr>\n",
       "    <tr>\n",
       "      <th>Barnet</th>\n",
       "      <td>24007</td>\n",
       "    </tr>\n",
       "    <tr>\n",
       "      <th>Bexley</th>\n",
       "      <td>11325</td>\n",
       "    </tr>\n",
       "    <tr>\n",
       "      <th>Brent</th>\n",
       "      <td>27669</td>\n",
       "    </tr>\n",
       "    <tr>\n",
       "      <th>Bromley</th>\n",
       "      <td>19868</td>\n",
       "    </tr>\n",
       "    <tr>\n",
       "      <th>Camden</th>\n",
       "      <td>33956</td>\n",
       "    </tr>\n",
       "    <tr>\n",
       "      <th>City of London</th>\n",
       "      <td>69</td>\n",
       "    </tr>\n",
       "    <tr>\n",
       "      <th>Croydon</th>\n",
       "      <td>29830</td>\n",
       "    </tr>\n",
       "    <tr>\n",
       "      <th>Ealing</th>\n",
       "      <td>29537</td>\n",
       "    </tr>\n",
       "    <tr>\n",
       "      <th>Enfield</th>\n",
       "      <td>21041</td>\n",
       "    </tr>\n",
       "    <tr>\n",
       "      <th>Greenwich</th>\n",
       "      <td>18552</td>\n",
       "    </tr>\n",
       "    <tr>\n",
       "      <th>Hackney</th>\n",
       "      <td>21395</td>\n",
       "    </tr>\n",
       "    <tr>\n",
       "      <th>Hammersmith and Fulham</th>\n",
       "      <td>22151</td>\n",
       "    </tr>\n",
       "    <tr>\n",
       "      <th>Haringey</th>\n",
       "      <td>23179</td>\n",
       "    </tr>\n",
       "    <tr>\n",
       "      <th>Harrow</th>\n",
       "      <td>12801</td>\n",
       "    </tr>\n",
       "    <tr>\n",
       "      <th>Havering</th>\n",
       "      <td>15496</td>\n",
       "    </tr>\n",
       "    <tr>\n",
       "      <th>Hillingdon</th>\n",
       "      <td>24282</td>\n",
       "    </tr>\n",
       "    <tr>\n",
       "      <th>Hounslow</th>\n",
       "      <td>21105</td>\n",
       "    </tr>\n",
       "    <tr>\n",
       "      <th>Islington</th>\n",
       "      <td>24980</td>\n",
       "    </tr>\n",
       "    <tr>\n",
       "      <th>Kensington and Chelsea</th>\n",
       "      <td>19146</td>\n",
       "    </tr>\n",
       "    <tr>\n",
       "      <th>Kingston upon Thames</th>\n",
       "      <td>10155</td>\n",
       "    </tr>\n",
       "    <tr>\n",
       "      <th>Lambeth</th>\n",
       "      <td>33224</td>\n",
       "    </tr>\n",
       "    <tr>\n",
       "      <th>Lewisham</th>\n",
       "      <td>24201</td>\n",
       "    </tr>\n",
       "    <tr>\n",
       "      <th>Merton</th>\n",
       "      <td>13548</td>\n",
       "    </tr>\n",
       "    <tr>\n",
       "      <th>Newham</th>\n",
       "      <td>27978</td>\n",
       "    </tr>\n",
       "    <tr>\n",
       "      <th>Redbridge</th>\n",
       "      <td>21994</td>\n",
       "    </tr>\n",
       "    <tr>\n",
       "      <th>Richmond upon Thames</th>\n",
       "      <td>10896</td>\n",
       "    </tr>\n",
       "    <tr>\n",
       "      <th>Southwark</th>\n",
       "      <td>30723</td>\n",
       "    </tr>\n",
       "    <tr>\n",
       "      <th>Sutton</th>\n",
       "      <td>11068</td>\n",
       "    </tr>\n",
       "    <tr>\n",
       "      <th>Tower Hamlets</th>\n",
       "      <td>24712</td>\n",
       "    </tr>\n",
       "    <tr>\n",
       "      <th>Waltham Forest</th>\n",
       "      <td>23714</td>\n",
       "    </tr>\n",
       "    <tr>\n",
       "      <th>Wandsworth</th>\n",
       "      <td>21384</td>\n",
       "    </tr>\n",
       "    <tr>\n",
       "      <th>Westminster</th>\n",
       "      <td>54243</td>\n",
       "    </tr>\n",
       "  </tbody>\n",
       "</table>\n",
       "</div>"
      ],
      "text/plain": [
       "                        value\n",
       "borough                      \n",
       "Barking and Dagenham    16686\n",
       "Barnet                  24007\n",
       "Bexley                  11325\n",
       "Brent                   27669\n",
       "Bromley                 19868\n",
       "Camden                  33956\n",
       "City of London             69\n",
       "Croydon                 29830\n",
       "Ealing                  29537\n",
       "Enfield                 21041\n",
       "Greenwich               18552\n",
       "Hackney                 21395\n",
       "Hammersmith and Fulham  22151\n",
       "Haringey                23179\n",
       "Harrow                  12801\n",
       "Havering                15496\n",
       "Hillingdon              24282\n",
       "Hounslow                21105\n",
       "Islington               24980\n",
       "Kensington and Chelsea  19146\n",
       "Kingston upon Thames    10155\n",
       "Lambeth                 33224\n",
       "Lewisham                24201\n",
       "Merton                  13548\n",
       "Newham                  27978\n",
       "Redbridge               21994\n",
       "Richmond upon Thames    10896\n",
       "Southwark               30723\n",
       "Sutton                  11068\n",
       "Tower Hamlets           24712\n",
       "Waltham Forest          23714\n",
       "Wandsworth              21384\n",
       "Westminster             54243"
      ]
     },
     "execution_count": 15,
     "metadata": {},
     "output_type": "execute_result"
    }
   ],
   "source": [
    "#Berikut adalah tabel jumlah kejahatan/kriminal yang terjadi di tahun 2012\n",
    "freq11 = freq.loc[2011]\n",
    "freq11 = freq11.groupby(\"borough\").sum()\n",
    "freq11"
   ]
  },
  {
   "cell_type": "code",
   "execution_count": 16,
   "metadata": {
    "vscode": {
     "languageId": "python"
    }
   },
   "outputs": [
    {
     "name": "stdout",
     "output_type": "stream",
     "text": [
      "Tahun 2011\n",
      "[1 2 5 8 9 5 2 0 0 1]\n",
      "[   69.   5486.4 10903.8 16321.2 21738.6 27156.  32573.4 37990.8 43408.2\n",
      " 48825.6 54243. ]\n",
      "\n",
      "Tahun 2016\n",
      "[ 1  0  6  2 10  8  4  1  0  1]\n",
      "[  178.   4993.2  9808.4 14623.6 19438.8 24254.  29069.2 33884.4 38699.6\n",
      " 43514.8 48330. ]\n"
     ]
    }
   ],
   "source": [
    "#Tahun 2012\n",
    "print(\"Tahun 2011\")\n",
    "count11, bin_edges11 = np.histogram(freq11)\n",
    "print(count11)\n",
    "print(bin_edges11)\n",
    "\n",
    "print(\"\\nTahun 2016\")\n",
    "#Tahun 2016\n",
    "count16, bin_edges16 = np.histogram(freq16)\n",
    "print(count16)\n",
    "print(bin_edges16)"
   ]
  },
  {
   "cell_type": "code",
   "execution_count": 17,
   "metadata": {
    "vscode": {
     "languageId": "python"
    }
   },
   "outputs": [
    {
     "data": {
      "text/plain": [
       "Text(0, 0.5, 'Number of Borough')"
      ]
     },
     "execution_count": 17,
     "metadata": {},
     "output_type": "execute_result"
    },
    {
     "data": {
      "image/png": "[encoded data removed]",
      "text/plain": [
       "<Figure size 1080x504 with 2 Axes>"
      ]
     },
     "metadata": {
      "needs_background": "light"
     },
     "output_type": "display_data"
    }
   ],
   "source": [
    "fig = plt.figure(figsize=(15,7))\n",
    "\n",
    "ax0 = fig.add_subplot(1,2,1) #1\n",
    "ax1 = fig.add_subplot(1,2,2) #2\n",
    "\n",
    "freq11.plot(kind=\"hist\", xticks=bin_edges11, yticks=count11, ax=ax0, legend=False, color=\"g\")\n",
    "ax0.set_title(\"Histogram of Crime Frequency in 2011\")\n",
    "ax0.grid(color=\"grey\", linewidth=0.5)\n",
    "ax0.set_xlabel(\"Number of Crime\")\n",
    "ax0.set_ylabel(\"Number of Borough\")\n",
    "\n",
    "freq16.plot(kind=\"hist\", xticks=bin_edges16, yticks=count16, ax=ax1, legend=False, color=\"r\")\n",
    "ax1.set_title(\"Histogram of Crime Frequency in 2016\")\n",
    "ax1.grid(color=\"grey\", linewidth=0.5)\n",
    "ax1.set_xlabel(\"Number of Crime\")\n",
    "ax1.set_ylabel(\"Number of Borough\")"
   ]
  },
  {
   "cell_type": "markdown",
   "metadata": {},
   "source": [
    "Berdasarkan histogram di atas, diketahui bahwa distribusi frekuensi dengan frekuensi tertinggi di tahun 2011 menunjukkan terdapat 9 wilayah dengan jumlah kejahatan/kriminal sebesar 21739 sampai dengan 27156, sedangkan di tahun 2016 menunjukkan terdapat 10 wilayah dengan jumlah kejahatan/kriminal sebesar 19439 sampai dengan 24254. Secara grafis, distribusi frekuensi jumlah kejahatan/kriminal di tahun 2011 dan 2016 tidak jauh berbeda."
   ]
  },
  {
   "cell_type": "markdown",
   "metadata": {},
   "source": [
    "---\n",
    "**Question:** Bagaimana distribusi frekuensi jumlah kejahatan diwilayah metropolitan London `borough` (`Westminster, Southwark dan Lambeth`) di tahun 2008-2016?"
   ]
  },
  {
   "cell_type": "markdown",
   "metadata": {},
   "source": [
    "Telah diketahui sebelumnya dengan area plot bahwa Westminster, Southwark, dan Lambeth adalah wilayah metropolitan dengan jumlah kejahatan tertinggi di tahun 2008-2016. Berikut adalah distribusi frekuensi jumlah kejahatan di 3 wilayah tersebut selama tahun 2008-2016."
   ]
  },
  {
   "cell_type": "code",
   "execution_count": 18,
   "metadata": {
    "vscode": {
     "languageId": "python"
    }
   },
   "outputs": [
    {
     "data": {
      "text/html": [
       "<div>\n",
       "<style scoped>\n",
       "    .dataframe tbody tr th:only-of-type {\n",
       "        vertical-align: middle;\n",
       "    }\n",
       "\n",
       "    .dataframe tbody tr th {\n",
       "        vertical-align: top;\n",
       "    }\n",
       "\n",
       "    .dataframe thead th {\n",
       "        text-align: right;\n",
       "    }\n",
       "</style>\n",
       "<table border=\"1\" class=\"dataframe\">\n",
       "  <thead>\n",
       "    <tr style=\"text-align: right;\">\n",
       "      <th></th>\n",
       "      <th>value</th>\n",
       "    </tr>\n",
       "    <tr>\n",
       "      <th>borough</th>\n",
       "      <th></th>\n",
       "    </tr>\n",
       "  </thead>\n",
       "  <tbody>\n",
       "    <tr>\n",
       "      <th>Westminster</th>\n",
       "      <td>455028</td>\n",
       "    </tr>\n",
       "    <tr>\n",
       "      <th>Lambeth</th>\n",
       "      <td>292178</td>\n",
       "    </tr>\n",
       "    <tr>\n",
       "      <th>Southwark</th>\n",
       "      <td>278809</td>\n",
       "    </tr>\n",
       "  </tbody>\n",
       "</table>\n",
       "</div>"
      ],
      "text/plain": [
       "              value\n",
       "borough            \n",
       "Westminster  455028\n",
       "Lambeth      292178\n",
       "Southwark    278809"
      ]
     },
     "execution_count": 18,
     "metadata": {},
     "output_type": "execute_result"
    }
   ],
   "source": [
    "top3_crime = df.drop([\"lsoa_code\",\"major_category\",\"minor_category\",\"month\"], axis=1)\n",
    "top3_crime = top3_crime.set_index(\"year\").groupby(\"borough\").sum()\n",
    "top3_crime = top3_crime.sort_values(by=\"value\", ascending=False).head(3)\n",
    "top3_crime"
   ]
  },
  {
   "cell_type": "code",
   "execution_count": 19,
   "metadata": {
    "vscode": {
     "languageId": "python"
    }
   },
   "outputs": [
    {
     "data": {
      "text/html": [
       "<div>\n",
       "<style scoped>\n",
       "    .dataframe tbody tr th:only-of-type {\n",
       "        vertical-align: middle;\n",
       "    }\n",
       "\n",
       "    .dataframe tbody tr th {\n",
       "        vertical-align: top;\n",
       "    }\n",
       "\n",
       "    .dataframe thead th {\n",
       "        text-align: right;\n",
       "    }\n",
       "</style>\n",
       "<table border=\"1\" class=\"dataframe\">\n",
       "  <thead>\n",
       "    <tr style=\"text-align: right;\">\n",
       "      <th>borough</th>\n",
       "      <th>Lambeth</th>\n",
       "      <th>Southwark</th>\n",
       "      <th>Westminster</th>\n",
       "    </tr>\n",
       "    <tr>\n",
       "      <th>year</th>\n",
       "      <th></th>\n",
       "      <th></th>\n",
       "      <th></th>\n",
       "    </tr>\n",
       "  </thead>\n",
       "  <tbody>\n",
       "    <tr>\n",
       "      <th>2008</th>\n",
       "      <td>31717</td>\n",
       "      <td>33470</td>\n",
       "      <td>47846</td>\n",
       "    </tr>\n",
       "    <tr>\n",
       "      <th>2009</th>\n",
       "      <td>31225</td>\n",
       "      <td>30623</td>\n",
       "      <td>48456</td>\n",
       "    </tr>\n",
       "    <tr>\n",
       "      <th>2010</th>\n",
       "      <td>31671</td>\n",
       "      <td>31320</td>\n",
       "      <td>48116</td>\n",
       "    </tr>\n",
       "    <tr>\n",
       "      <th>2011</th>\n",
       "      <td>33224</td>\n",
       "      <td>30723</td>\n",
       "      <td>54243</td>\n",
       "    </tr>\n",
       "    <tr>\n",
       "      <th>2012</th>\n",
       "      <td>33473</td>\n",
       "      <td>30737</td>\n",
       "      <td>59226</td>\n",
       "    </tr>\n",
       "    <tr>\n",
       "      <th>2013</th>\n",
       "      <td>31868</td>\n",
       "      <td>31128</td>\n",
       "      <td>53852</td>\n",
       "    </tr>\n",
       "    <tr>\n",
       "      <th>2014</th>\n",
       "      <td>31765</td>\n",
       "      <td>28912</td>\n",
       "      <td>47564</td>\n",
       "    </tr>\n",
       "    <tr>\n",
       "      <th>2015</th>\n",
       "      <td>33164</td>\n",
       "      <td>30260</td>\n",
       "      <td>47395</td>\n",
       "    </tr>\n",
       "    <tr>\n",
       "      <th>2016</th>\n",
       "      <td>34071</td>\n",
       "      <td>31636</td>\n",
       "      <td>48330</td>\n",
       "    </tr>\n",
       "  </tbody>\n",
       "</table>\n",
       "</div>"
      ],
      "text/plain": [
       "borough  Lambeth  Southwark  Westminster\n",
       "year                                    \n",
       "2008       31717      33470        47846\n",
       "2009       31225      30623        48456\n",
       "2010       31671      31320        48116\n",
       "2011       33224      30723        54243\n",
       "2012       33473      30737        59226\n",
       "2013       31868      31128        53852\n",
       "2014       31765      28912        47564\n",
       "2015       33164      30260        47395\n",
       "2016       34071      31636        48330"
      ]
     },
     "execution_count": 19,
     "metadata": {},
     "output_type": "execute_result"
    }
   ],
   "source": [
    "freq_top3 = df.drop([\"lsoa_code\",\"major_category\",\"minor_category\",\"month\"],axis=1).set_index(\"borough\")\n",
    "freq_top3 = freq_top3.loc[top3_crime.index]\n",
    "freq_top3 = pd.pivot_table(freq_top3, values=\"value\", aggfunc=np.sum, index=\"year\", columns=\"borough\")\n",
    "freq_top3"
   ]
  },
  {
   "cell_type": "code",
   "execution_count": 20,
   "metadata": {
    "vscode": {
     "languageId": "python"
    }
   },
   "outputs": [
    {
     "name": "stdout",
     "output_type": "stream",
     "text": [
      "[13  5  0  0  0  0  6  0  2  1]\n",
      "[28912.  31943.4 34974.8 38006.2 41037.6 44069.  47100.4 50131.8 53163.2\n",
      " 56194.6 59226. ]\n"
     ]
    }
   ],
   "source": [
    "count, bin_edges = np.histogram(freq_top3)\n",
    "print(count)\n",
    "print(bin_edges)"
   ]
  },
  {
   "cell_type": "code",
   "execution_count": 21,
   "metadata": {
    "vscode": {
     "languageId": "python"
    }
   },
   "outputs": [
    {
     "data": {
      "image/png": "[encoded data removed]",
      "text/plain": [
       "<Figure size 720x504 with 1 Axes>"
      ]
     },
     "metadata": {
      "needs_background": "light"
     },
     "output_type": "display_data"
    }
   ],
   "source": [
    "freq_top3.plot(kind=\"hist\",\n",
    "                     figsize=(10,7),\n",
    "                     xticks=bin_edges,\n",
    "                     yticks=count)\n",
    "plt.title(\"Histogram of Crime from Frequency Westminster, Southwark, and Lambeth 2008-2016\", fontsize=20)\n",
    "plt.xlabel(\"Number of Crime\", fontsize=15)\n",
    "plt.ylabel(\"Number of Years\", fontsize=15)\n",
    "plt.grid(color=\"grey\", linewidth=0.4)\n",
    "plt.show()"
   ]
  },
  {
   "cell_type": "markdown",
   "metadata": {},
   "source": [
    "Diketahui bahwa distribusi frekuensi Lambeth dan Southwark memiliki distribusi frekuensi yang mirip, yaitu berkisar di 28912 sampai dengan 34975. Sedangkan untuk Westminster memiliki frekuensi tertinggi pada saat jumlah kejahatan/kriminalnya berkisar di 47100 sampai 50132."
   ]
  }
 ],
 "metadata": {
  "kernelspec": {
   "display_name": "Python 3 (ipykernel)",
   "language": "python",
   "name": "python3"
  },
  "orig_nbformat": 4
 },
 "nbformat": 4,
 "nbformat_minor": 2
}
